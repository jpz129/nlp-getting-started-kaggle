{
 "cells": [
  {
   "cell_type": "code",
   "execution_count": 1,
   "metadata": {
    "execution": {
     "iopub.execute_input": "2020-12-20T20:01:12.721641Z",
     "iopub.status.busy": "2020-12-20T20:01:12.721641Z",
     "iopub.status.idle": "2020-12-20T20:01:13.173739Z",
     "shell.execute_reply": "2020-12-20T20:01:13.173739Z",
     "shell.execute_reply.started": "2020-12-20T20:01:12.721641Z"
    }
   },
   "outputs": [],
   "source": [
    "import pandas as pd"
   ]
  },
  {
   "cell_type": "code",
   "execution_count": 2,
   "metadata": {
    "execution": {
     "iopub.execute_input": "2020-12-20T20:01:13.173739Z",
     "iopub.status.busy": "2020-12-20T20:01:13.173739Z",
     "iopub.status.idle": "2020-12-20T20:01:13.204675Z",
     "shell.execute_reply": "2020-12-20T20:01:13.204675Z",
     "shell.execute_reply.started": "2020-12-20T20:01:13.173739Z"
    }
   },
   "outputs": [],
   "source": [
    "train_full = pd.read_csv('train.csv', index_col='id')"
   ]
  },
  {
   "cell_type": "code",
   "execution_count": 3,
   "metadata": {
    "execution": {
     "iopub.execute_input": "2020-12-20T20:01:13.204675Z",
     "iopub.status.busy": "2020-12-20T20:01:13.204675Z",
     "iopub.status.idle": "2020-12-20T20:01:13.220616Z",
     "shell.execute_reply": "2020-12-20T20:01:13.220616Z",
     "shell.execute_reply.started": "2020-12-20T20:01:13.204675Z"
    }
   },
   "outputs": [
    {
     "data": {
      "text/html": [
       "<div>\n",
       "<style scoped>\n",
       "    .dataframe tbody tr th:only-of-type {\n",
       "        vertical-align: middle;\n",
       "    }\n",
       "\n",
       "    .dataframe tbody tr th {\n",
       "        vertical-align: top;\n",
       "    }\n",
       "\n",
       "    .dataframe thead th {\n",
       "        text-align: right;\n",
       "    }\n",
       "</style>\n",
       "<table border=\"1\" class=\"dataframe\">\n",
       "  <thead>\n",
       "    <tr style=\"text-align: right;\">\n",
       "      <th></th>\n",
       "      <th>keyword</th>\n",
       "      <th>location</th>\n",
       "      <th>text</th>\n",
       "      <th>target</th>\n",
       "    </tr>\n",
       "    <tr>\n",
       "      <th>id</th>\n",
       "      <th></th>\n",
       "      <th></th>\n",
       "      <th></th>\n",
       "      <th></th>\n",
       "    </tr>\n",
       "  </thead>\n",
       "  <tbody>\n",
       "    <tr>\n",
       "      <th>1</th>\n",
       "      <td>NaN</td>\n",
       "      <td>NaN</td>\n",
       "      <td>Our Deeds are the Reason of this #earthquake M...</td>\n",
       "      <td>1</td>\n",
       "    </tr>\n",
       "    <tr>\n",
       "      <th>4</th>\n",
       "      <td>NaN</td>\n",
       "      <td>NaN</td>\n",
       "      <td>Forest fire near La Ronge Sask. Canada</td>\n",
       "      <td>1</td>\n",
       "    </tr>\n",
       "    <tr>\n",
       "      <th>5</th>\n",
       "      <td>NaN</td>\n",
       "      <td>NaN</td>\n",
       "      <td>All residents asked to 'shelter in place' are ...</td>\n",
       "      <td>1</td>\n",
       "    </tr>\n",
       "    <tr>\n",
       "      <th>6</th>\n",
       "      <td>NaN</td>\n",
       "      <td>NaN</td>\n",
       "      <td>13,000 people receive #wildfires evacuation or...</td>\n",
       "      <td>1</td>\n",
       "    </tr>\n",
       "    <tr>\n",
       "      <th>7</th>\n",
       "      <td>NaN</td>\n",
       "      <td>NaN</td>\n",
       "      <td>Just got sent this photo from Ruby #Alaska as ...</td>\n",
       "      <td>1</td>\n",
       "    </tr>\n",
       "  </tbody>\n",
       "</table>\n",
       "</div>"
      ],
      "text/plain": [
       "   keyword location                                               text  target\n",
       "id                                                                            \n",
       "1      NaN      NaN  Our Deeds are the Reason of this #earthquake M...       1\n",
       "4      NaN      NaN             Forest fire near La Ronge Sask. Canada       1\n",
       "5      NaN      NaN  All residents asked to 'shelter in place' are ...       1\n",
       "6      NaN      NaN  13,000 people receive #wildfires evacuation or...       1\n",
       "7      NaN      NaN  Just got sent this photo from Ruby #Alaska as ...       1"
      ]
     },
     "execution_count": 3,
     "metadata": {},
     "output_type": "execute_result"
    }
   ],
   "source": [
    "train_full.head()"
   ]
  },
  {
   "cell_type": "code",
   "execution_count": 4,
   "metadata": {
    "execution": {
     "iopub.execute_input": "2020-12-20T20:01:13.220616Z",
     "iopub.status.busy": "2020-12-20T20:01:13.220616Z",
     "iopub.status.idle": "2020-12-20T20:01:13.236590Z",
     "shell.execute_reply": "2020-12-20T20:01:13.236590Z",
     "shell.execute_reply.started": "2020-12-20T20:01:13.220616Z"
    }
   },
   "outputs": [
    {
     "data": {
      "text/plain": [
       "keyword      location\n",
       "sandstorm    USA         17\n",
       "loud%20bang  Kenya       16\n",
       "flood        New York    13\n",
       "body%20bag   New York    10\n",
       "arsonist     ss          10\n",
       "dtype: int64"
      ]
     },
     "execution_count": 4,
     "metadata": {},
     "output_type": "execute_result"
    }
   ],
   "source": [
    "train_full[['keyword', 'location']].value_counts().head()"
   ]
  },
  {
   "cell_type": "code",
   "execution_count": 5,
   "metadata": {
    "execution": {
     "iopub.execute_input": "2020-12-20T20:01:13.236590Z",
     "iopub.status.busy": "2020-12-20T20:01:13.236590Z",
     "iopub.status.idle": "2020-12-20T20:01:13.970679Z",
     "shell.execute_reply": "2020-12-20T20:01:13.970679Z",
     "shell.execute_reply.started": "2020-12-20T20:01:13.236590Z"
    }
   },
   "outputs": [],
   "source": [
    "import matplotlib.pyplot as plt\n",
    "import matplotlib.style as style\n",
    "style.use('fivethirtyeight')\n",
    "import seaborn as sns"
   ]
  },
  {
   "cell_type": "code",
   "execution_count": 6,
   "metadata": {
    "execution": {
     "iopub.execute_input": "2020-12-20T20:01:13.970679Z",
     "iopub.status.busy": "2020-12-20T20:01:13.970679Z",
     "iopub.status.idle": "2020-12-20T20:01:14.097574Z",
     "shell.execute_reply": "2020-12-20T20:01:14.097574Z",
     "shell.execute_reply.started": "2020-12-20T20:01:13.970679Z"
    }
   },
   "outputs": [
    {
     "data": {
      "text/plain": [
       "<AxesSubplot:xlabel='target', ylabel='count'>"
      ]
     },
     "execution_count": 6,
     "metadata": {},
     "output_type": "execute_result"
    },
    {
     "data": {
      "image/png": "[encoded data removed]",
      "text/plain": [
       "<Figure size 432x288 with 1 Axes>"
      ]
     },
     "metadata": {},
     "output_type": "display_data"
    }
   ],
   "source": [
    "sns.countplot(x='target', data=train_full)"
   ]
  },
  {
   "cell_type": "code",
   "execution_count": 7,
   "metadata": {
    "execution": {
     "iopub.execute_input": "2020-12-20T20:01:14.097574Z",
     "iopub.status.busy": "2020-12-20T20:01:14.097574Z",
     "iopub.status.idle": "2020-12-20T20:01:14.113579Z",
     "shell.execute_reply": "2020-12-20T20:01:14.113579Z",
     "shell.execute_reply.started": "2020-12-20T20:01:14.097574Z"
    }
   },
   "outputs": [
    {
     "data": {
      "text/html": [
       "<div>\n",
       "<style scoped>\n",
       "    .dataframe tbody tr th:only-of-type {\n",
       "        vertical-align: middle;\n",
       "    }\n",
       "\n",
       "    .dataframe tbody tr th {\n",
       "        vertical-align: top;\n",
       "    }\n",
       "\n",
       "    .dataframe thead th {\n",
       "        text-align: right;\n",
       "    }\n",
       "</style>\n",
       "<table border=\"1\" class=\"dataframe\">\n",
       "  <thead>\n",
       "    <tr style=\"text-align: right;\">\n",
       "      <th></th>\n",
       "      <th>keyword</th>\n",
       "      <th>location</th>\n",
       "      <th>text</th>\n",
       "      <th>target</th>\n",
       "    </tr>\n",
       "    <tr>\n",
       "      <th>id</th>\n",
       "      <th></th>\n",
       "      <th></th>\n",
       "      <th></th>\n",
       "      <th></th>\n",
       "    </tr>\n",
       "  </thead>\n",
       "  <tbody>\n",
       "    <tr>\n",
       "      <th>1</th>\n",
       "      <td>none</td>\n",
       "      <td>none</td>\n",
       "      <td>Our Deeds are the Reason of this #earthquake M...</td>\n",
       "      <td>1</td>\n",
       "    </tr>\n",
       "    <tr>\n",
       "      <th>4</th>\n",
       "      <td>none</td>\n",
       "      <td>none</td>\n",
       "      <td>Forest fire near La Ronge Sask. Canada</td>\n",
       "      <td>1</td>\n",
       "    </tr>\n",
       "    <tr>\n",
       "      <th>5</th>\n",
       "      <td>none</td>\n",
       "      <td>none</td>\n",
       "      <td>All residents asked to 'shelter in place' are ...</td>\n",
       "      <td>1</td>\n",
       "    </tr>\n",
       "    <tr>\n",
       "      <th>6</th>\n",
       "      <td>none</td>\n",
       "      <td>none</td>\n",
       "      <td>13,000 people receive #wildfires evacuation or...</td>\n",
       "      <td>1</td>\n",
       "    </tr>\n",
       "    <tr>\n",
       "      <th>7</th>\n",
       "      <td>none</td>\n",
       "      <td>none</td>\n",
       "      <td>Just got sent this photo from Ruby #Alaska as ...</td>\n",
       "      <td>1</td>\n",
       "    </tr>\n",
       "  </tbody>\n",
       "</table>\n",
       "</div>"
      ],
      "text/plain": [
       "   keyword location                                               text  target\n",
       "id                                                                            \n",
       "1     none     none  Our Deeds are the Reason of this #earthquake M...       1\n",
       "4     none     none             Forest fire near La Ronge Sask. Canada       1\n",
       "5     none     none  All residents asked to 'shelter in place' are ...       1\n",
       "6     none     none  13,000 people receive #wildfires evacuation or...       1\n",
       "7     none     none  Just got sent this photo from Ruby #Alaska as ...       1"
      ]
     },
     "execution_count": 7,
     "metadata": {},
     "output_type": "execute_result"
    }
   ],
   "source": [
    "train_full[['keyword', 'location']] = train_full[['keyword', 'location']].fillna(value='none')\n",
    "train_full.head()"
   ]
  },
  {
   "cell_type": "code",
   "execution_count": 8,
   "metadata": {
    "execution": {
     "iopub.execute_input": "2020-12-20T20:01:14.113579Z",
     "iopub.status.busy": "2020-12-20T20:01:14.113579Z",
     "iopub.status.idle": "2020-12-20T20:01:14.129610Z",
     "shell.execute_reply": "2020-12-20T20:01:14.129610Z",
     "shell.execute_reply.started": "2020-12-20T20:01:14.113579Z"
    }
   },
   "outputs": [
    {
     "data": {
      "text/html": [
       "<div>\n",
       "<style scoped>\n",
       "    .dataframe tbody tr th:only-of-type {\n",
       "        vertical-align: middle;\n",
       "    }\n",
       "\n",
       "    .dataframe tbody tr th {\n",
       "        vertical-align: top;\n",
       "    }\n",
       "\n",
       "    .dataframe thead th {\n",
       "        text-align: right;\n",
       "    }\n",
       "</style>\n",
       "<table border=\"1\" class=\"dataframe\">\n",
       "  <thead>\n",
       "    <tr style=\"text-align: right;\">\n",
       "      <th></th>\n",
       "      <th>keyword</th>\n",
       "      <th>location</th>\n",
       "      <th>text</th>\n",
       "      <th>target</th>\n",
       "      <th>hashtag</th>\n",
       "    </tr>\n",
       "    <tr>\n",
       "      <th>id</th>\n",
       "      <th></th>\n",
       "      <th></th>\n",
       "      <th></th>\n",
       "      <th></th>\n",
       "      <th></th>\n",
       "    </tr>\n",
       "  </thead>\n",
       "  <tbody>\n",
       "    <tr>\n",
       "      <th>1</th>\n",
       "      <td>none</td>\n",
       "      <td>none</td>\n",
       "      <td>Our Deeds are the Reason of this #earthquake M...</td>\n",
       "      <td>1</td>\n",
       "      <td>1</td>\n",
       "    </tr>\n",
       "    <tr>\n",
       "      <th>4</th>\n",
       "      <td>none</td>\n",
       "      <td>none</td>\n",
       "      <td>Forest fire near La Ronge Sask. Canada</td>\n",
       "      <td>1</td>\n",
       "      <td>0</td>\n",
       "    </tr>\n",
       "    <tr>\n",
       "      <th>5</th>\n",
       "      <td>none</td>\n",
       "      <td>none</td>\n",
       "      <td>All residents asked to 'shelter in place' are ...</td>\n",
       "      <td>1</td>\n",
       "      <td>0</td>\n",
       "    </tr>\n",
       "    <tr>\n",
       "      <th>6</th>\n",
       "      <td>none</td>\n",
       "      <td>none</td>\n",
       "      <td>13,000 people receive #wildfires evacuation or...</td>\n",
       "      <td>1</td>\n",
       "      <td>1</td>\n",
       "    </tr>\n",
       "    <tr>\n",
       "      <th>7</th>\n",
       "      <td>none</td>\n",
       "      <td>none</td>\n",
       "      <td>Just got sent this photo from Ruby #Alaska as ...</td>\n",
       "      <td>1</td>\n",
       "      <td>1</td>\n",
       "    </tr>\n",
       "  </tbody>\n",
       "</table>\n",
       "</div>"
      ],
      "text/plain": [
       "   keyword location                                               text  \\\n",
       "id                                                                       \n",
       "1     none     none  Our Deeds are the Reason of this #earthquake M...   \n",
       "4     none     none             Forest fire near La Ronge Sask. Canada   \n",
       "5     none     none  All residents asked to 'shelter in place' are ...   \n",
       "6     none     none  13,000 people receive #wildfires evacuation or...   \n",
       "7     none     none  Just got sent this photo from Ruby #Alaska as ...   \n",
       "\n",
       "    target  hashtag  \n",
       "id                   \n",
       "1        1        1  \n",
       "4        1        0  \n",
       "5        1        0  \n",
       "6        1        1  \n",
       "7        1        1  "
      ]
     },
     "execution_count": 8,
     "metadata": {},
     "output_type": "execute_result"
    }
   ],
   "source": [
    "train_full['hashtag'] = train_full['text'].apply(lambda x: 1 if '#' in x else 0)\n",
    "train_full.head()"
   ]
  },
  {
   "cell_type": "code",
   "execution_count": 9,
   "metadata": {
    "execution": {
     "iopub.execute_input": "2020-12-20T20:01:14.129610Z",
     "iopub.status.busy": "2020-12-20T20:01:14.129610Z",
     "iopub.status.idle": "2020-12-20T20:01:14.297856Z",
     "shell.execute_reply": "2020-12-20T20:01:14.297856Z",
     "shell.execute_reply.started": "2020-12-20T20:01:14.129610Z"
    }
   },
   "outputs": [
    {
     "data": {
      "text/plain": [
       "<AxesSubplot:xlabel='target', ylabel='count'>"
      ]
     },
     "execution_count": 9,
     "metadata": {},
     "output_type": "execute_result"
    },
    {
     "data": {
      "image/png": "[encoded data removed]",
      "text/plain": [
       "<Figure size 432x288 with 1 Axes>"
      ]
     },
     "metadata": {},
     "output_type": "display_data"
    }
   ],
   "source": [
    "sns.countplot(x='target', data=train_full, hue='hashtag')"
   ]
  },
  {
   "cell_type": "code",
   "execution_count": 10,
   "metadata": {
    "execution": {
     "iopub.execute_input": "2020-12-20T20:01:14.297856Z",
     "iopub.status.busy": "2020-12-20T20:01:14.297856Z",
     "iopub.status.idle": "2020-12-20T20:01:14.305896Z",
     "shell.execute_reply": "2020-12-20T20:01:14.305896Z",
     "shell.execute_reply.started": "2020-12-20T20:01:14.297856Z"
    }
   },
   "outputs": [],
   "source": [
    "test_text = train_full['text'].iloc[7]"
   ]
  },
  {
   "cell_type": "code",
   "execution_count": 11,
   "metadata": {
    "execution": {
     "iopub.execute_input": "2020-12-20T20:01:14.305896Z",
     "iopub.status.busy": "2020-12-20T20:01:14.305896Z",
     "iopub.status.idle": "2020-12-20T20:01:14.321865Z",
     "shell.execute_reply": "2020-12-20T20:01:14.321865Z",
     "shell.execute_reply.started": "2020-12-20T20:01:14.305896Z"
    }
   },
   "outputs": [
    {
     "data": {
      "text/plain": [
       "\"I'm on top of the hill and I can see a fire in the woods...\""
      ]
     },
     "execution_count": 11,
     "metadata": {},
     "output_type": "execute_result"
    }
   ],
   "source": [
    "test_text"
   ]
  },
  {
   "cell_type": "code",
   "execution_count": 12,
   "metadata": {
    "execution": {
     "iopub.execute_input": "2020-12-20T20:01:14.321865Z",
     "iopub.status.busy": "2020-12-20T20:01:14.321865Z",
     "iopub.status.idle": "2020-12-20T20:01:17.654385Z",
     "shell.execute_reply": "2020-12-20T20:01:17.654385Z",
     "shell.execute_reply.started": "2020-12-20T20:01:14.321865Z"
    }
   },
   "outputs": [],
   "source": [
    "from transformers import pipeline"
   ]
  },
  {
   "cell_type": "code",
   "execution_count": 13,
   "metadata": {
    "execution": {
     "iopub.execute_input": "2020-12-20T20:01:17.654385Z",
     "iopub.status.busy": "2020-12-20T20:01:17.654385Z",
     "iopub.status.idle": "2020-12-20T20:01:19.909599Z",
     "shell.execute_reply": "2020-12-20T20:01:19.909599Z",
     "shell.execute_reply.started": "2020-12-20T20:01:17.654385Z"
    }
   },
   "outputs": [
    {
     "data": {
      "application/vnd.jupyter.widget-view+json": {
       "model_id": "a59df949fbf04894b6f2bb29110f8967",
       "version_major": 2,
       "version_minor": 0
      },
      "text/plain": [
       "HBox(children=(HTML(value='Downloading'), FloatProgress(value=0.0, max=230.0), HTML(value='')))"
      ]
     },
     "metadata": {},
     "output_type": "display_data"
    },
    {
     "name": "stderr",
     "output_type": "stream",
     "text": [
      "Couldn't reach server at 'https://s3.amazonaws.com/models.huggingface.co/bert/distilbert-base-uncased-finetuned-sst-2-english-modelcard.json' to download model card file.\n",
      "Creating an empty model card.\n"
     ]
    },
    {
     "name": "stdout",
     "output_type": "stream",
     "text": [
      "\n"
     ]
    }
   ],
   "source": [
    "nlp = pipeline('sentiment-analysis')"
   ]
  },
  {
   "cell_type": "code",
   "execution_count": 14,
   "metadata": {
    "execution": {
     "iopub.execute_input": "2020-12-20T20:01:19.909599Z",
     "iopub.status.busy": "2020-12-20T20:01:19.909599Z",
     "iopub.status.idle": "2020-12-20T20:01:19.957598Z",
     "shell.execute_reply": "2020-12-20T20:01:19.957598Z",
     "shell.execute_reply.started": "2020-12-20T20:01:19.909599Z"
    }
   },
   "outputs": [],
   "source": [
    "result = nlp(test_text, return_all_scores=True)"
   ]
  },
  {
   "cell_type": "code",
   "execution_count": 15,
   "metadata": {
    "execution": {
     "iopub.execute_input": "2020-12-20T20:01:19.957598Z",
     "iopub.status.busy": "2020-12-20T20:01:19.957598Z",
     "iopub.status.idle": "2020-12-20T20:01:19.973605Z",
     "shell.execute_reply": "2020-12-20T20:01:19.973605Z",
     "shell.execute_reply.started": "2020-12-20T20:01:19.957598Z"
    }
   },
   "outputs": [
    {
     "data": {
      "text/plain": [
       "[{'label': 'POSITIVE', 'score': 0.998032}]"
      ]
     },
     "execution_count": 15,
     "metadata": {},
     "output_type": "execute_result"
    }
   ],
   "source": [
    "result"
   ]
  },
  {
   "cell_type": "code",
   "execution_count": 16,
   "metadata": {
    "execution": {
     "iopub.execute_input": "2020-12-20T20:01:19.973605Z",
     "iopub.status.busy": "2020-12-20T20:01:19.973605Z",
     "iopub.status.idle": "2020-12-20T20:10:30.304540Z",
     "shell.execute_reply": "2020-12-20T20:10:30.304540Z",
     "shell.execute_reply.started": "2020-12-20T20:01:19.973605Z"
    }
   },
   "outputs": [
    {
     "data": {
      "text/html": [
       "<div>\n",
       "<style scoped>\n",
       "    .dataframe tbody tr th:only-of-type {\n",
       "        vertical-align: middle;\n",
       "    }\n",
       "\n",
       "    .dataframe tbody tr th {\n",
       "        vertical-align: top;\n",
       "    }\n",
       "\n",
       "    .dataframe thead th {\n",
       "        text-align: right;\n",
       "    }\n",
       "</style>\n",
       "<table border=\"1\" class=\"dataframe\">\n",
       "  <thead>\n",
       "    <tr style=\"text-align: right;\">\n",
       "      <th></th>\n",
       "      <th>keyword</th>\n",
       "      <th>location</th>\n",
       "      <th>text</th>\n",
       "      <th>target</th>\n",
       "      <th>hashtag</th>\n",
       "      <th>sentiment_label</th>\n",
       "      <th>sentiment_conf</th>\n",
       "    </tr>\n",
       "    <tr>\n",
       "      <th>id</th>\n",
       "      <th></th>\n",
       "      <th></th>\n",
       "      <th></th>\n",
       "      <th></th>\n",
       "      <th></th>\n",
       "      <th></th>\n",
       "      <th></th>\n",
       "    </tr>\n",
       "  </thead>\n",
       "  <tbody>\n",
       "    <tr>\n",
       "      <th>1</th>\n",
       "      <td>none</td>\n",
       "      <td>none</td>\n",
       "      <td>Our Deeds are the Reason of this #earthquake M...</td>\n",
       "      <td>1</td>\n",
       "      <td>1</td>\n",
       "      <td>NEGATIVE</td>\n",
       "      <td>0.726392</td>\n",
       "    </tr>\n",
       "    <tr>\n",
       "      <th>4</th>\n",
       "      <td>none</td>\n",
       "      <td>none</td>\n",
       "      <td>Forest fire near La Ronge Sask. Canada</td>\n",
       "      <td>1</td>\n",
       "      <td>0</td>\n",
       "      <td>NEGATIVE</td>\n",
       "      <td>0.984948</td>\n",
       "    </tr>\n",
       "    <tr>\n",
       "      <th>5</th>\n",
       "      <td>none</td>\n",
       "      <td>none</td>\n",
       "      <td>All residents asked to 'shelter in place' are ...</td>\n",
       "      <td>1</td>\n",
       "      <td>0</td>\n",
       "      <td>NEGATIVE</td>\n",
       "      <td>0.979095</td>\n",
       "    </tr>\n",
       "    <tr>\n",
       "      <th>6</th>\n",
       "      <td>none</td>\n",
       "      <td>none</td>\n",
       "      <td>13,000 people receive #wildfires evacuation or...</td>\n",
       "      <td>1</td>\n",
       "      <td>1</td>\n",
       "      <td>NEGATIVE</td>\n",
       "      <td>0.984415</td>\n",
       "    </tr>\n",
       "    <tr>\n",
       "      <th>7</th>\n",
       "      <td>none</td>\n",
       "      <td>none</td>\n",
       "      <td>Just got sent this photo from Ruby #Alaska as ...</td>\n",
       "      <td>1</td>\n",
       "      <td>1</td>\n",
       "      <td>NEGATIVE</td>\n",
       "      <td>0.973235</td>\n",
       "    </tr>\n",
       "  </tbody>\n",
       "</table>\n",
       "</div>"
      ],
      "text/plain": [
       "   keyword location                                               text  \\\n",
       "id                                                                       \n",
       "1     none     none  Our Deeds are the Reason of this #earthquake M...   \n",
       "4     none     none             Forest fire near La Ronge Sask. Canada   \n",
       "5     none     none  All residents asked to 'shelter in place' are ...   \n",
       "6     none     none  13,000 people receive #wildfires evacuation or...   \n",
       "7     none     none  Just got sent this photo from Ruby #Alaska as ...   \n",
       "\n",
       "    target  hashtag sentiment_label  sentiment_conf  \n",
       "id                                                   \n",
       "1        1        1        NEGATIVE        0.726392  \n",
       "4        1        0        NEGATIVE        0.984948  \n",
       "5        1        0        NEGATIVE        0.979095  \n",
       "6        1        1        NEGATIVE        0.984415  \n",
       "7        1        1        NEGATIVE        0.973235  "
      ]
     },
     "execution_count": 16,
     "metadata": {},
     "output_type": "execute_result"
    }
   ],
   "source": [
    "train_full['sentiment_label'] = train_full['text'].apply(lambda text: nlp(text)[0]['label'])\n",
    "train_full['sentiment_conf'] = train_full['text'].apply(lambda text: nlp(text)[0]['score'])\n",
    "train_full.head()"
   ]
  },
  {
   "cell_type": "code",
   "execution_count": 17,
   "metadata": {
    "execution": {
     "iopub.execute_input": "2020-12-20T20:10:30.306584Z",
     "iopub.status.busy": "2020-12-20T20:10:30.306584Z",
     "iopub.status.idle": "2020-12-20T20:10:30.345048Z",
     "shell.execute_reply": "2020-12-20T20:10:30.345048Z",
     "shell.execute_reply.started": "2020-12-20T20:10:30.306584Z"
    }
   },
   "outputs": [
    {
     "data": {
      "text/html": [
       "<div>\n",
       "<style scoped>\n",
       "    .dataframe tbody tr th:only-of-type {\n",
       "        vertical-align: middle;\n",
       "    }\n",
       "\n",
       "    .dataframe tbody tr th {\n",
       "        vertical-align: top;\n",
       "    }\n",
       "\n",
       "    .dataframe thead th {\n",
       "        text-align: right;\n",
       "    }\n",
       "</style>\n",
       "<table border=\"1\" class=\"dataframe\">\n",
       "  <thead>\n",
       "    <tr style=\"text-align: right;\">\n",
       "      <th></th>\n",
       "      <th>keyword</th>\n",
       "      <th>location</th>\n",
       "      <th>text</th>\n",
       "      <th>target</th>\n",
       "      <th>hashtag</th>\n",
       "      <th>sentiment_label</th>\n",
       "      <th>sentiment_conf</th>\n",
       "    </tr>\n",
       "    <tr>\n",
       "      <th>id</th>\n",
       "      <th></th>\n",
       "      <th></th>\n",
       "      <th></th>\n",
       "      <th></th>\n",
       "      <th></th>\n",
       "      <th></th>\n",
       "      <th></th>\n",
       "    </tr>\n",
       "  </thead>\n",
       "  <tbody>\n",
       "    <tr>\n",
       "      <th>1</th>\n",
       "      <td>none</td>\n",
       "      <td>none</td>\n",
       "      <td>Our Deeds are the Reason of this #earthquake M...</td>\n",
       "      <td>1</td>\n",
       "      <td>1</td>\n",
       "      <td>0</td>\n",
       "      <td>0.726392</td>\n",
       "    </tr>\n",
       "    <tr>\n",
       "      <th>4</th>\n",
       "      <td>none</td>\n",
       "      <td>none</td>\n",
       "      <td>Forest fire near La Ronge Sask. Canada</td>\n",
       "      <td>1</td>\n",
       "      <td>0</td>\n",
       "      <td>0</td>\n",
       "      <td>0.984948</td>\n",
       "    </tr>\n",
       "    <tr>\n",
       "      <th>5</th>\n",
       "      <td>none</td>\n",
       "      <td>none</td>\n",
       "      <td>All residents asked to 'shelter in place' are ...</td>\n",
       "      <td>1</td>\n",
       "      <td>0</td>\n",
       "      <td>0</td>\n",
       "      <td>0.979095</td>\n",
       "    </tr>\n",
       "    <tr>\n",
       "      <th>6</th>\n",
       "      <td>none</td>\n",
       "      <td>none</td>\n",
       "      <td>13,000 people receive #wildfires evacuation or...</td>\n",
       "      <td>1</td>\n",
       "      <td>1</td>\n",
       "      <td>0</td>\n",
       "      <td>0.984415</td>\n",
       "    </tr>\n",
       "    <tr>\n",
       "      <th>7</th>\n",
       "      <td>none</td>\n",
       "      <td>none</td>\n",
       "      <td>Just got sent this photo from Ruby #Alaska as ...</td>\n",
       "      <td>1</td>\n",
       "      <td>1</td>\n",
       "      <td>0</td>\n",
       "      <td>0.973235</td>\n",
       "    </tr>\n",
       "  </tbody>\n",
       "</table>\n",
       "</div>"
      ],
      "text/plain": [
       "   keyword location                                               text  \\\n",
       "id                                                                       \n",
       "1     none     none  Our Deeds are the Reason of this #earthquake M...   \n",
       "4     none     none             Forest fire near La Ronge Sask. Canada   \n",
       "5     none     none  All residents asked to 'shelter in place' are ...   \n",
       "6     none     none  13,000 people receive #wildfires evacuation or...   \n",
       "7     none     none  Just got sent this photo from Ruby #Alaska as ...   \n",
       "\n",
       "    target  hashtag  sentiment_label  sentiment_conf  \n",
       "id                                                    \n",
       "1        1        1                0        0.726392  \n",
       "4        1        0                0        0.984948  \n",
       "5        1        0                0        0.979095  \n",
       "6        1        1                0        0.984415  \n",
       "7        1        1                0        0.973235  "
      ]
     },
     "execution_count": 17,
     "metadata": {},
     "output_type": "execute_result"
    }
   ],
   "source": [
    "train_full['sentiment_label'] = train_full['sentiment_label'].apply(lambda text: 1 if 'POSITIVE' in text else 0)\n",
    "train_full.head()"
   ]
  },
  {
   "cell_type": "code",
   "execution_count": 18,
   "metadata": {
    "execution": {
     "iopub.execute_input": "2020-12-20T20:10:30.347086Z",
     "iopub.status.busy": "2020-12-20T20:10:30.347086Z",
     "iopub.status.idle": "2020-12-20T20:10:31.450909Z",
     "shell.execute_reply": "2020-12-20T20:10:31.450909Z",
     "shell.execute_reply.started": "2020-12-20T20:10:30.347086Z"
    }
   },
   "outputs": [
    {
     "name": "stderr",
     "output_type": "stream",
     "text": [
      "C:\\Users\\jpzam\\Anaconda3\\lib\\site-packages\\seaborn\\axisgrid.py:645: UserWarning: Using the countplot function without specifying `order` is likely to produce an incorrect plot.\n",
      "  warnings.warn(warning)\n"
     ]
    },
    {
     "data": {
      "image/png": "[encoded data removed]",
      "text/plain": [
       "<Figure size 1440x720 with 4 Axes>"
      ]
     },
     "metadata": {},
     "output_type": "display_data"
    }
   ],
   "source": [
    "g = sns.FacetGrid(train_full, row='hashtag', col='sentiment_label',\n",
    "                 height=5, aspect=2)\n",
    "g.map(sns.countplot, 'target')\n",
    "plt.tight_layout()"
   ]
  },
  {
   "cell_type": "code",
   "execution_count": 19,
   "metadata": {
    "execution": {
     "iopub.execute_input": "2020-12-20T20:10:31.450909Z",
     "iopub.status.busy": "2020-12-20T20:10:31.450909Z",
     "iopub.status.idle": "2020-12-20T20:10:31.482928Z",
     "shell.execute_reply": "2020-12-20T20:10:31.482928Z",
     "shell.execute_reply.started": "2020-12-20T20:10:31.450909Z"
    }
   },
   "outputs": [
    {
     "data": {
      "text/html": [
       "<div>\n",
       "<style scoped>\n",
       "    .dataframe tbody tr th:only-of-type {\n",
       "        vertical-align: middle;\n",
       "    }\n",
       "\n",
       "    .dataframe tbody tr th {\n",
       "        vertical-align: top;\n",
       "    }\n",
       "\n",
       "    .dataframe thead th {\n",
       "        text-align: right;\n",
       "    }\n",
       "</style>\n",
       "<table border=\"1\" class=\"dataframe\">\n",
       "  <thead>\n",
       "    <tr style=\"text-align: right;\">\n",
       "      <th></th>\n",
       "      <th>keyword</th>\n",
       "      <th>location</th>\n",
       "      <th>text</th>\n",
       "      <th>target</th>\n",
       "      <th>hashtag</th>\n",
       "      <th>sentiment_label</th>\n",
       "      <th>sentiment_conf</th>\n",
       "    </tr>\n",
       "    <tr>\n",
       "      <th>id</th>\n",
       "      <th></th>\n",
       "      <th></th>\n",
       "      <th></th>\n",
       "      <th></th>\n",
       "      <th></th>\n",
       "      <th></th>\n",
       "      <th></th>\n",
       "    </tr>\n",
       "  </thead>\n",
       "  <tbody>\n",
       "    <tr>\n",
       "      <th>1</th>\n",
       "      <td>none</td>\n",
       "      <td>0</td>\n",
       "      <td>Our Deeds are the Reason of this #earthquake M...</td>\n",
       "      <td>1</td>\n",
       "      <td>1</td>\n",
       "      <td>0</td>\n",
       "      <td>0.726392</td>\n",
       "    </tr>\n",
       "    <tr>\n",
       "      <th>4</th>\n",
       "      <td>none</td>\n",
       "      <td>0</td>\n",
       "      <td>Forest fire near La Ronge Sask. Canada</td>\n",
       "      <td>1</td>\n",
       "      <td>0</td>\n",
       "      <td>0</td>\n",
       "      <td>0.984948</td>\n",
       "    </tr>\n",
       "    <tr>\n",
       "      <th>5</th>\n",
       "      <td>none</td>\n",
       "      <td>0</td>\n",
       "      <td>All residents asked to 'shelter in place' are ...</td>\n",
       "      <td>1</td>\n",
       "      <td>0</td>\n",
       "      <td>0</td>\n",
       "      <td>0.979095</td>\n",
       "    </tr>\n",
       "    <tr>\n",
       "      <th>6</th>\n",
       "      <td>none</td>\n",
       "      <td>0</td>\n",
       "      <td>13,000 people receive #wildfires evacuation or...</td>\n",
       "      <td>1</td>\n",
       "      <td>1</td>\n",
       "      <td>0</td>\n",
       "      <td>0.984415</td>\n",
       "    </tr>\n",
       "    <tr>\n",
       "      <th>7</th>\n",
       "      <td>none</td>\n",
       "      <td>0</td>\n",
       "      <td>Just got sent this photo from Ruby #Alaska as ...</td>\n",
       "      <td>1</td>\n",
       "      <td>1</td>\n",
       "      <td>0</td>\n",
       "      <td>0.973235</td>\n",
       "    </tr>\n",
       "  </tbody>\n",
       "</table>\n",
       "</div>"
      ],
      "text/plain": [
       "   keyword  location                                               text  \\\n",
       "id                                                                        \n",
       "1     none         0  Our Deeds are the Reason of this #earthquake M...   \n",
       "4     none         0             Forest fire near La Ronge Sask. Canada   \n",
       "5     none         0  All residents asked to 'shelter in place' are ...   \n",
       "6     none         0  13,000 people receive #wildfires evacuation or...   \n",
       "7     none         0  Just got sent this photo from Ruby #Alaska as ...   \n",
       "\n",
       "    target  hashtag  sentiment_label  sentiment_conf  \n",
       "id                                                    \n",
       "1        1        1                0        0.726392  \n",
       "4        1        0                0        0.984948  \n",
       "5        1        0                0        0.979095  \n",
       "6        1        1                0        0.984415  \n",
       "7        1        1                0        0.973235  "
      ]
     },
     "execution_count": 19,
     "metadata": {},
     "output_type": "execute_result"
    }
   ],
   "source": [
    "train_full['location'] = train_full['location'].apply(lambda loc: 0 if 'none' in loc else 1)\n",
    "train_full.head()"
   ]
  },
  {
   "cell_type": "code",
   "execution_count": 20,
   "metadata": {
    "execution": {
     "iopub.execute_input": "2020-12-20T20:10:31.482928Z",
     "iopub.status.busy": "2020-12-20T20:10:31.482928Z",
     "iopub.status.idle": "2020-12-20T20:10:31.498932Z",
     "shell.execute_reply": "2020-12-20T20:10:31.498932Z",
     "shell.execute_reply.started": "2020-12-20T20:10:31.482928Z"
    }
   },
   "outputs": [],
   "source": [
    "X = train_full.drop(['keyword', 'text', 'target'], axis=1)\n",
    "y = train_full['target']"
   ]
  },
  {
   "cell_type": "code",
   "execution_count": 21,
   "metadata": {
    "execution": {
     "iopub.execute_input": "2020-12-20T20:10:31.498932Z",
     "iopub.status.busy": "2020-12-20T20:10:31.498932Z",
     "iopub.status.idle": "2020-12-20T20:10:31.522933Z",
     "shell.execute_reply": "2020-12-20T20:10:31.522933Z",
     "shell.execute_reply.started": "2020-12-20T20:10:31.498932Z"
    }
   },
   "outputs": [],
   "source": [
    "from sklearn.model_selection import train_test_split"
   ]
  },
  {
   "cell_type": "code",
   "execution_count": 22,
   "metadata": {
    "execution": {
     "iopub.execute_input": "2020-12-20T20:10:31.522933Z",
     "iopub.status.busy": "2020-12-20T20:10:31.522933Z",
     "iopub.status.idle": "2020-12-20T20:10:31.538984Z",
     "shell.execute_reply": "2020-12-20T20:10:31.538984Z",
     "shell.execute_reply.started": "2020-12-20T20:10:31.522933Z"
    }
   },
   "outputs": [],
   "source": [
    "X_train, X_test, y_train, y_test = train_test_split(X, y, test_size=0.33, random_state=42)"
   ]
  },
  {
   "cell_type": "code",
   "execution_count": 23,
   "metadata": {
    "execution": {
     "iopub.execute_input": "2020-12-20T20:10:31.538984Z",
     "iopub.status.busy": "2020-12-20T20:10:31.538984Z",
     "iopub.status.idle": "2020-12-20T20:10:31.723997Z",
     "shell.execute_reply": "2020-12-20T20:10:31.723997Z",
     "shell.execute_reply.started": "2020-12-20T20:10:31.538984Z"
    }
   },
   "outputs": [],
   "source": [
    "from sklearn.ensemble import RandomForestClassifier\n",
    "from sklearn.model_selection import GridSearchCV\n",
    "import numpy as np"
   ]
  },
  {
   "cell_type": "code",
   "execution_count": 24,
   "metadata": {
    "execution": {
     "iopub.execute_input": "2020-12-20T20:10:31.723997Z",
     "iopub.status.busy": "2020-12-20T20:10:31.723997Z",
     "iopub.status.idle": "2020-12-20T20:10:31.731993Z",
     "shell.execute_reply": "2020-12-20T20:10:31.731993Z",
     "shell.execute_reply.started": "2020-12-20T20:10:31.723997Z"
    }
   },
   "outputs": [],
   "source": [
    "parameters = {'n_estimators': np.arange(100, 600, 100),\n",
    "             'criterion': ['gini', 'entropy'],\n",
    "             'warm_start': [False, True],\n",
    "             'max_features': ['auto', 'sqrt', 'log2']}"
   ]
  },
  {
   "cell_type": "code",
   "execution_count": 25,
   "metadata": {
    "execution": {
     "iopub.execute_input": "2020-12-20T20:10:31.731993Z",
     "iopub.status.busy": "2020-12-20T20:10:31.731993Z",
     "iopub.status.idle": "2020-12-20T20:10:31.748005Z",
     "shell.execute_reply": "2020-12-20T20:10:31.748005Z",
     "shell.execute_reply.started": "2020-12-20T20:10:31.731993Z"
    }
   },
   "outputs": [],
   "source": [
    "model = RandomForestClassifier()"
   ]
  },
  {
   "cell_type": "code",
   "execution_count": 26,
   "metadata": {
    "execution": {
     "iopub.execute_input": "2020-12-20T20:10:31.748005Z",
     "iopub.status.busy": "2020-12-20T20:10:31.748005Z",
     "iopub.status.idle": "2020-12-20T20:10:31.771994Z",
     "shell.execute_reply": "2020-12-20T20:10:31.771994Z",
     "shell.execute_reply.started": "2020-12-20T20:10:31.748005Z"
    }
   },
   "outputs": [],
   "source": [
    "clf = GridSearchCV(model, parameters)"
   ]
  },
  {
   "cell_type": "code",
   "execution_count": 27,
   "metadata": {
    "execution": {
     "iopub.execute_input": "2020-12-20T20:10:31.771994Z",
     "iopub.status.busy": "2020-12-20T20:10:31.771994Z",
     "iopub.status.idle": "2020-12-20T20:18:14.167517Z",
     "shell.execute_reply": "2020-12-20T20:18:14.167517Z",
     "shell.execute_reply.started": "2020-12-20T20:10:31.771994Z"
    }
   },
   "outputs": [
    {
     "data": {
      "text/plain": [
       "GridSearchCV(estimator=RandomForestClassifier(),\n",
       "             param_grid={'criterion': ['gini', 'entropy'],\n",
       "                         'max_features': ['auto', 'sqrt', 'log2'],\n",
       "                         'n_estimators': array([100, 200, 300, 400, 500]),\n",
       "                         'warm_start': [False, True]})"
      ]
     },
     "execution_count": 27,
     "metadata": {},
     "output_type": "execute_result"
    }
   ],
   "source": [
    "clf.fit(X_train, y_train)"
   ]
  },
  {
   "cell_type": "code",
   "execution_count": 28,
   "metadata": {
    "execution": {
     "iopub.execute_input": "2020-12-20T20:18:42.737929Z",
     "iopub.status.busy": "2020-12-20T20:18:42.737929Z",
     "iopub.status.idle": "2020-12-20T20:18:42.774298Z",
     "shell.execute_reply": "2020-12-20T20:18:42.774298Z",
     "shell.execute_reply.started": "2020-12-20T20:18:42.737929Z"
    }
   },
   "outputs": [
    {
     "data": {
      "text/plain": [
       "{'mean_fit_time': array([0.56573572, 0.46690917, 0.85689664, 0.73310719, 1.08886189,\n",
       "        1.08529544, 1.45441923, 1.45975962, 1.8346642 , 1.84298048,\n",
       "        0.36342263, 0.36249771, 0.73245516, 0.72187309, 1.10066676,\n",
       "        1.09666557, 1.4850656 , 1.48487506, 1.86891327, 1.8734015 ,\n",
       "        0.3704205 , 0.36874518, 0.74324722, 0.73437457, 1.12277608,\n",
       "        1.09374471, 1.4862885 , 1.47404065, 1.83954043, 1.83623385,\n",
       "        0.60312304, 0.59687529, 1.18589897, 1.19243302, 1.80170174,\n",
       "        1.83111181, 2.41449256, 2.47688198, 3.01598392, 2.99916263,\n",
       "        0.59742503, 0.59401035, 1.21193223, 1.54268103, 1.87961407,\n",
       "        1.81675363, 2.41913958, 2.38476167, 2.95950103, 3.05620031,\n",
       "        0.62712355, 0.60126505, 1.19442592, 1.2070416 , 1.80111604,\n",
       "        1.77405434, 2.40340338, 2.37620177, 2.98825288, 2.99427004]),\n",
       " 'std_fit_time': array([0.04505616, 0.03684391, 0.01944604, 0.02038708, 0.02320554,\n",
       "        0.02100176, 0.02295084, 0.02491485, 0.02393929, 0.02372015,\n",
       "        0.00605833, 0.00625055, 0.0115479 , 0.01530941, 0.01573347,\n",
       "        0.01147036, 0.05484233, 0.0395654 , 0.02438386, 0.0265194 ,\n",
       "        0.00619759, 0.00765588, 0.02835401, 0.01711629, 0.02636519,\n",
       "        0.01397606, 0.03644867, 0.01960367, 0.03419336, 0.02454   ,\n",
       "        0.01250141, 0.01531378, 0.01750339, 0.01536985, 0.03188376,\n",
       "        0.04024376, 0.09082437, 0.11081197, 0.06400281, 0.04903956,\n",
       "        0.01523919, 0.01688711, 0.05125613, 0.29126494, 0.11654497,\n",
       "        0.0760206 , 0.07677073, 0.05249283, 0.05302959, 0.14080585,\n",
       "        0.01361317, 0.00586442, 0.02535397, 0.01913196, 0.03708285,\n",
       "        0.03732006, 0.03670708, 0.06662904, 0.06192619, 0.0570604 ]),\n",
       " 'mean_score_time': array([0.04142337, 0.02752819, 0.05312538, 0.04062834, 0.06875572,\n",
       "        0.06875329, 0.08579698, 0.09062824, 0.10625167, 0.10625029,\n",
       "        0.02499943, 0.02187667, 0.04544878, 0.04375181, 0.07187634,\n",
       "        0.06250114, 0.09375167, 0.081252  , 0.10937462, 0.11217418,\n",
       "        0.02187605, 0.01875486, 0.04687791, 0.04687572, 0.07500291,\n",
       "        0.06563091, 0.0906251 , 0.08855267, 0.10937605, 0.10938072,\n",
       "        0.01562657, 0.02187519, 0.04062696, 0.04375296, 0.06562653,\n",
       "        0.06562815, 0.09375496, 0.08750291, 0.10937743, 0.10937428,\n",
       "        0.02322416, 0.01875567, 0.04375219, 0.04687486, 0.06874466,\n",
       "        0.06562929, 0.08437824, 0.08437576, 0.11249804, 0.11887507,\n",
       "        0.02188354, 0.02668066, 0.04711113, 0.04375558, 0.06748619,\n",
       "        0.06869168, 0.08803816, 0.08464208, 0.11051345, 0.11296139]),\n",
       " 'std_score_time': array([7.82176924e-03, 6.05787956e-03, 7.65492816e-03, 7.65329338e-03,\n",
       "        7.65679736e-03, 7.65391629e-03, 6.99567618e-03, 6.25007252e-03,\n",
       "        6.24845111e-03, 6.24907043e-03, 7.65613553e-03, 7.65358497e-03,\n",
       "        7.82288987e-03, 6.24971414e-03, 7.65409158e-03, 3.36296991e-06,\n",
       "        9.88211800e-03, 6.24983342e-03, 9.88083612e-03, 5.59322904e-03,\n",
       "        7.65448100e-03, 6.25352886e-03, 5.08988768e-06, 2.30169647e-06,\n",
       "        6.25348168e-03, 6.24775909e-03, 6.24825999e-03, 6.57609560e-03,\n",
       "        2.24974177e-06, 3.27250670e-06, 2.35829602e-06, 7.65664236e-03,\n",
       "        7.65605713e-03, 6.24814187e-03, 6.25102564e-03, 6.25104943e-03,\n",
       "        2.08612851e-06, 7.65381860e-03, 1.26519195e-06, 2.69739830e-06,\n",
       "        7.00191833e-03, 6.24978566e-03, 6.24930888e-03, 1.48203566e-06,\n",
       "        7.64588294e-03, 6.24941537e-03, 7.65385857e-03, 7.65393544e-03,\n",
       "        6.24978669e-03, 1.15162032e-02, 7.65246800e-03, 6.19984874e-03,\n",
       "        4.62131661e-04, 6.24852777e-03, 6.41790457e-03, 7.56688665e-03,\n",
       "        5.86446892e-03, 7.45442087e-03, 7.87892835e-03, 8.15637843e-03]),\n",
       " 'param_criterion': masked_array(data=['gini', 'gini', 'gini', 'gini', 'gini', 'gini', 'gini',\n",
       "                    'gini', 'gini', 'gini', 'gini', 'gini', 'gini', 'gini',\n",
       "                    'gini', 'gini', 'gini', 'gini', 'gini', 'gini', 'gini',\n",
       "                    'gini', 'gini', 'gini', 'gini', 'gini', 'gini', 'gini',\n",
       "                    'gini', 'gini', 'entropy', 'entropy', 'entropy',\n",
       "                    'entropy', 'entropy', 'entropy', 'entropy', 'entropy',\n",
       "                    'entropy', 'entropy', 'entropy', 'entropy', 'entropy',\n",
       "                    'entropy', 'entropy', 'entropy', 'entropy', 'entropy',\n",
       "                    'entropy', 'entropy', 'entropy', 'entropy', 'entropy',\n",
       "                    'entropy', 'entropy', 'entropy', 'entropy', 'entropy',\n",
       "                    'entropy', 'entropy'],\n",
       "              mask=[False, False, False, False, False, False, False, False,\n",
       "                    False, False, False, False, False, False, False, False,\n",
       "                    False, False, False, False, False, False, False, False,\n",
       "                    False, False, False, False, False, False, False, False,\n",
       "                    False, False, False, False, False, False, False, False,\n",
       "                    False, False, False, False, False, False, False, False,\n",
       "                    False, False, False, False, False, False, False, False,\n",
       "                    False, False, False, False],\n",
       "        fill_value='?',\n",
       "             dtype=object),\n",
       " 'param_max_features': masked_array(data=['auto', 'auto', 'auto', 'auto', 'auto', 'auto', 'auto',\n",
       "                    'auto', 'auto', 'auto', 'sqrt', 'sqrt', 'sqrt', 'sqrt',\n",
       "                    'sqrt', 'sqrt', 'sqrt', 'sqrt', 'sqrt', 'sqrt', 'log2',\n",
       "                    'log2', 'log2', 'log2', 'log2', 'log2', 'log2', 'log2',\n",
       "                    'log2', 'log2', 'auto', 'auto', 'auto', 'auto', 'auto',\n",
       "                    'auto', 'auto', 'auto', 'auto', 'auto', 'sqrt', 'sqrt',\n",
       "                    'sqrt', 'sqrt', 'sqrt', 'sqrt', 'sqrt', 'sqrt', 'sqrt',\n",
       "                    'sqrt', 'log2', 'log2', 'log2', 'log2', 'log2', 'log2',\n",
       "                    'log2', 'log2', 'log2', 'log2'],\n",
       "              mask=[False, False, False, False, False, False, False, False,\n",
       "                    False, False, False, False, False, False, False, False,\n",
       "                    False, False, False, False, False, False, False, False,\n",
       "                    False, False, False, False, False, False, False, False,\n",
       "                    False, False, False, False, False, False, False, False,\n",
       "                    False, False, False, False, False, False, False, False,\n",
       "                    False, False, False, False, False, False, False, False,\n",
       "                    False, False, False, False],\n",
       "        fill_value='?',\n",
       "             dtype=object),\n",
       " 'param_n_estimators': masked_array(data=[100, 100, 200, 200, 300, 300, 400, 400, 500, 500, 100,\n",
       "                    100, 200, 200, 300, 300, 400, 400, 500, 500, 100, 100,\n",
       "                    200, 200, 300, 300, 400, 400, 500, 500, 100, 100, 200,\n",
       "                    200, 300, 300, 400, 400, 500, 500, 100, 100, 200, 200,\n",
       "                    300, 300, 400, 400, 500, 500, 100, 100, 200, 200, 300,\n",
       "                    300, 400, 400, 500, 500],\n",
       "              mask=[False, False, False, False, False, False, False, False,\n",
       "                    False, False, False, False, False, False, False, False,\n",
       "                    False, False, False, False, False, False, False, False,\n",
       "                    False, False, False, False, False, False, False, False,\n",
       "                    False, False, False, False, False, False, False, False,\n",
       "                    False, False, False, False, False, False, False, False,\n",
       "                    False, False, False, False, False, False, False, False,\n",
       "                    False, False, False, False],\n",
       "        fill_value='?',\n",
       "             dtype=object),\n",
       " 'param_warm_start': masked_array(data=[False, True, False, True, False, True, False, True,\n",
       "                    False, True, False, True, False, True, False, True,\n",
       "                    False, True, False, True, False, True, False, True,\n",
       "                    False, True, False, True, False, True, False, True,\n",
       "                    False, True, False, True, False, True, False, True,\n",
       "                    False, True, False, True, False, True, False, True,\n",
       "                    False, True, False, True, False, True, False, True,\n",
       "                    False, True, False, True],\n",
       "              mask=[False, False, False, False, False, False, False, False,\n",
       "                    False, False, False, False, False, False, False, False,\n",
       "                    False, False, False, False, False, False, False, False,\n",
       "                    False, False, False, False, False, False, False, False,\n",
       "                    False, False, False, False, False, False, False, False,\n",
       "                    False, False, False, False, False, False, False, False,\n",
       "                    False, False, False, False, False, False, False, False,\n",
       "                    False, False, False, False],\n",
       "        fill_value='?',\n",
       "             dtype=object),\n",
       " 'params': [{'criterion': 'gini',\n",
       "   'max_features': 'auto',\n",
       "   'n_estimators': 100,\n",
       "   'warm_start': False},\n",
       "  {'criterion': 'gini',\n",
       "   'max_features': 'auto',\n",
       "   'n_estimators': 100,\n",
       "   'warm_start': True},\n",
       "  {'criterion': 'gini',\n",
       "   'max_features': 'auto',\n",
       "   'n_estimators': 200,\n",
       "   'warm_start': False},\n",
       "  {'criterion': 'gini',\n",
       "   'max_features': 'auto',\n",
       "   'n_estimators': 200,\n",
       "   'warm_start': True},\n",
       "  {'criterion': 'gini',\n",
       "   'max_features': 'auto',\n",
       "   'n_estimators': 300,\n",
       "   'warm_start': False},\n",
       "  {'criterion': 'gini',\n",
       "   'max_features': 'auto',\n",
       "   'n_estimators': 300,\n",
       "   'warm_start': True},\n",
       "  {'criterion': 'gini',\n",
       "   'max_features': 'auto',\n",
       "   'n_estimators': 400,\n",
       "   'warm_start': False},\n",
       "  {'criterion': 'gini',\n",
       "   'max_features': 'auto',\n",
       "   'n_estimators': 400,\n",
       "   'warm_start': True},\n",
       "  {'criterion': 'gini',\n",
       "   'max_features': 'auto',\n",
       "   'n_estimators': 500,\n",
       "   'warm_start': False},\n",
       "  {'criterion': 'gini',\n",
       "   'max_features': 'auto',\n",
       "   'n_estimators': 500,\n",
       "   'warm_start': True},\n",
       "  {'criterion': 'gini',\n",
       "   'max_features': 'sqrt',\n",
       "   'n_estimators': 100,\n",
       "   'warm_start': False},\n",
       "  {'criterion': 'gini',\n",
       "   'max_features': 'sqrt',\n",
       "   'n_estimators': 100,\n",
       "   'warm_start': True},\n",
       "  {'criterion': 'gini',\n",
       "   'max_features': 'sqrt',\n",
       "   'n_estimators': 200,\n",
       "   'warm_start': False},\n",
       "  {'criterion': 'gini',\n",
       "   'max_features': 'sqrt',\n",
       "   'n_estimators': 200,\n",
       "   'warm_start': True},\n",
       "  {'criterion': 'gini',\n",
       "   'max_features': 'sqrt',\n",
       "   'n_estimators': 300,\n",
       "   'warm_start': False},\n",
       "  {'criterion': 'gini',\n",
       "   'max_features': 'sqrt',\n",
       "   'n_estimators': 300,\n",
       "   'warm_start': True},\n",
       "  {'criterion': 'gini',\n",
       "   'max_features': 'sqrt',\n",
       "   'n_estimators': 400,\n",
       "   'warm_start': False},\n",
       "  {'criterion': 'gini',\n",
       "   'max_features': 'sqrt',\n",
       "   'n_estimators': 400,\n",
       "   'warm_start': True},\n",
       "  {'criterion': 'gini',\n",
       "   'max_features': 'sqrt',\n",
       "   'n_estimators': 500,\n",
       "   'warm_start': False},\n",
       "  {'criterion': 'gini',\n",
       "   'max_features': 'sqrt',\n",
       "   'n_estimators': 500,\n",
       "   'warm_start': True},\n",
       "  {'criterion': 'gini',\n",
       "   'max_features': 'log2',\n",
       "   'n_estimators': 100,\n",
       "   'warm_start': False},\n",
       "  {'criterion': 'gini',\n",
       "   'max_features': 'log2',\n",
       "   'n_estimators': 100,\n",
       "   'warm_start': True},\n",
       "  {'criterion': 'gini',\n",
       "   'max_features': 'log2',\n",
       "   'n_estimators': 200,\n",
       "   'warm_start': False},\n",
       "  {'criterion': 'gini',\n",
       "   'max_features': 'log2',\n",
       "   'n_estimators': 200,\n",
       "   'warm_start': True},\n",
       "  {'criterion': 'gini',\n",
       "   'max_features': 'log2',\n",
       "   'n_estimators': 300,\n",
       "   'warm_start': False},\n",
       "  {'criterion': 'gini',\n",
       "   'max_features': 'log2',\n",
       "   'n_estimators': 300,\n",
       "   'warm_start': True},\n",
       "  {'criterion': 'gini',\n",
       "   'max_features': 'log2',\n",
       "   'n_estimators': 400,\n",
       "   'warm_start': False},\n",
       "  {'criterion': 'gini',\n",
       "   'max_features': 'log2',\n",
       "   'n_estimators': 400,\n",
       "   'warm_start': True},\n",
       "  {'criterion': 'gini',\n",
       "   'max_features': 'log2',\n",
       "   'n_estimators': 500,\n",
       "   'warm_start': False},\n",
       "  {'criterion': 'gini',\n",
       "   'max_features': 'log2',\n",
       "   'n_estimators': 500,\n",
       "   'warm_start': True},\n",
       "  {'criterion': 'entropy',\n",
       "   'max_features': 'auto',\n",
       "   'n_estimators': 100,\n",
       "   'warm_start': False},\n",
       "  {'criterion': 'entropy',\n",
       "   'max_features': 'auto',\n",
       "   'n_estimators': 100,\n",
       "   'warm_start': True},\n",
       "  {'criterion': 'entropy',\n",
       "   'max_features': 'auto',\n",
       "   'n_estimators': 200,\n",
       "   'warm_start': False},\n",
       "  {'criterion': 'entropy',\n",
       "   'max_features': 'auto',\n",
       "   'n_estimators': 200,\n",
       "   'warm_start': True},\n",
       "  {'criterion': 'entropy',\n",
       "   'max_features': 'auto',\n",
       "   'n_estimators': 300,\n",
       "   'warm_start': False},\n",
       "  {'criterion': 'entropy',\n",
       "   'max_features': 'auto',\n",
       "   'n_estimators': 300,\n",
       "   'warm_start': True},\n",
       "  {'criterion': 'entropy',\n",
       "   'max_features': 'auto',\n",
       "   'n_estimators': 400,\n",
       "   'warm_start': False},\n",
       "  {'criterion': 'entropy',\n",
       "   'max_features': 'auto',\n",
       "   'n_estimators': 400,\n",
       "   'warm_start': True},\n",
       "  {'criterion': 'entropy',\n",
       "   'max_features': 'auto',\n",
       "   'n_estimators': 500,\n",
       "   'warm_start': False},\n",
       "  {'criterion': 'entropy',\n",
       "   'max_features': 'auto',\n",
       "   'n_estimators': 500,\n",
       "   'warm_start': True},\n",
       "  {'criterion': 'entropy',\n",
       "   'max_features': 'sqrt',\n",
       "   'n_estimators': 100,\n",
       "   'warm_start': False},\n",
       "  {'criterion': 'entropy',\n",
       "   'max_features': 'sqrt',\n",
       "   'n_estimators': 100,\n",
       "   'warm_start': True},\n",
       "  {'criterion': 'entropy',\n",
       "   'max_features': 'sqrt',\n",
       "   'n_estimators': 200,\n",
       "   'warm_start': False},\n",
       "  {'criterion': 'entropy',\n",
       "   'max_features': 'sqrt',\n",
       "   'n_estimators': 200,\n",
       "   'warm_start': True},\n",
       "  {'criterion': 'entropy',\n",
       "   'max_features': 'sqrt',\n",
       "   'n_estimators': 300,\n",
       "   'warm_start': False},\n",
       "  {'criterion': 'entropy',\n",
       "   'max_features': 'sqrt',\n",
       "   'n_estimators': 300,\n",
       "   'warm_start': True},\n",
       "  {'criterion': 'entropy',\n",
       "   'max_features': 'sqrt',\n",
       "   'n_estimators': 400,\n",
       "   'warm_start': False},\n",
       "  {'criterion': 'entropy',\n",
       "   'max_features': 'sqrt',\n",
       "   'n_estimators': 400,\n",
       "   'warm_start': True},\n",
       "  {'criterion': 'entropy',\n",
       "   'max_features': 'sqrt',\n",
       "   'n_estimators': 500,\n",
       "   'warm_start': False},\n",
       "  {'criterion': 'entropy',\n",
       "   'max_features': 'sqrt',\n",
       "   'n_estimators': 500,\n",
       "   'warm_start': True},\n",
       "  {'criterion': 'entropy',\n",
       "   'max_features': 'log2',\n",
       "   'n_estimators': 100,\n",
       "   'warm_start': False},\n",
       "  {'criterion': 'entropy',\n",
       "   'max_features': 'log2',\n",
       "   'n_estimators': 100,\n",
       "   'warm_start': True},\n",
       "  {'criterion': 'entropy',\n",
       "   'max_features': 'log2',\n",
       "   'n_estimators': 200,\n",
       "   'warm_start': False},\n",
       "  {'criterion': 'entropy',\n",
       "   'max_features': 'log2',\n",
       "   'n_estimators': 200,\n",
       "   'warm_start': True},\n",
       "  {'criterion': 'entropy',\n",
       "   'max_features': 'log2',\n",
       "   'n_estimators': 300,\n",
       "   'warm_start': False},\n",
       "  {'criterion': 'entropy',\n",
       "   'max_features': 'log2',\n",
       "   'n_estimators': 300,\n",
       "   'warm_start': True},\n",
       "  {'criterion': 'entropy',\n",
       "   'max_features': 'log2',\n",
       "   'n_estimators': 400,\n",
       "   'warm_start': False},\n",
       "  {'criterion': 'entropy',\n",
       "   'max_features': 'log2',\n",
       "   'n_estimators': 400,\n",
       "   'warm_start': True},\n",
       "  {'criterion': 'entropy',\n",
       "   'max_features': 'log2',\n",
       "   'n_estimators': 500,\n",
       "   'warm_start': False},\n",
       "  {'criterion': 'entropy',\n",
       "   'max_features': 'log2',\n",
       "   'n_estimators': 500,\n",
       "   'warm_start': True}],\n",
       " 'split0_test_score': array([0.54509804, 0.54411765, 0.54215686, 0.54313725, 0.54509804,\n",
       "        0.54607843, 0.54509804, 0.54509804, 0.54607843, 0.54313725,\n",
       "        0.54411765, 0.54509804, 0.54509804, 0.54607843, 0.54509804,\n",
       "        0.54509804, 0.54411765, 0.54509804, 0.54607843, 0.54607843,\n",
       "        0.54607843, 0.54607843, 0.54607843, 0.54705882, 0.54411765,\n",
       "        0.54313725, 0.54607843, 0.54509804, 0.54509804, 0.54411765,\n",
       "        0.54607843, 0.54607843, 0.54411765, 0.54509804, 0.54509804,\n",
       "        0.54215686, 0.54313725, 0.54313725, 0.54313725, 0.54705882,\n",
       "        0.54509804, 0.54313725, 0.54509804, 0.54313725, 0.54411765,\n",
       "        0.54509804, 0.54607843, 0.54509804, 0.54411765, 0.54607843,\n",
       "        0.54411765, 0.54509804, 0.54411765, 0.54313725, 0.54607843,\n",
       "        0.54509804, 0.54509804, 0.54509804, 0.54411765, 0.54509804]),\n",
       " 'split1_test_score': array([0.54313725, 0.54313725, 0.54313725, 0.54313725, 0.54313725,\n",
       "        0.54313725, 0.54411765, 0.54313725, 0.54313725, 0.54411765,\n",
       "        0.54313725, 0.54411765, 0.54313725, 0.54313725, 0.54411765,\n",
       "        0.54411765, 0.54313725, 0.54411765, 0.54411765, 0.54411765,\n",
       "        0.54509804, 0.54411765, 0.54313725, 0.54411765, 0.54411765,\n",
       "        0.54411765, 0.54313725, 0.54313725, 0.54509804, 0.54411765,\n",
       "        0.54411765, 0.54607843, 0.54411765, 0.54313725, 0.54411765,\n",
       "        0.54411765, 0.54411765, 0.54411765, 0.54509804, 0.54411765,\n",
       "        0.54607843, 0.54313725, 0.54215686, 0.54411765, 0.54411765,\n",
       "        0.54313725, 0.54411765, 0.54411765, 0.54411765, 0.54411765,\n",
       "        0.54509804, 0.54411765, 0.54313725, 0.54117647, 0.54411765,\n",
       "        0.54313725, 0.54411765, 0.54411765, 0.54411765, 0.54411765]),\n",
       " 'split2_test_score': array([0.5254902 , 0.52647059, 0.52647059, 0.5245098 , 0.52647059,\n",
       "        0.52647059, 0.5245098 , 0.5254902 , 0.5245098 , 0.5254902 ,\n",
       "        0.5254902 , 0.5245098 , 0.5254902 , 0.5254902 , 0.5254902 ,\n",
       "        0.5254902 , 0.52647059, 0.52647059, 0.52647059, 0.5245098 ,\n",
       "        0.52647059, 0.52843137, 0.5254902 , 0.52745098, 0.52745098,\n",
       "        0.52647059, 0.5254902 , 0.5254902 , 0.5254902 , 0.5245098 ,\n",
       "        0.5254902 , 0.52941176, 0.5254902 , 0.5254902 , 0.52647059,\n",
       "        0.52647059, 0.52647059, 0.52647059, 0.52647059, 0.5245098 ,\n",
       "        0.52843137, 0.52352941, 0.5245098 , 0.5245098 , 0.5254902 ,\n",
       "        0.52745098, 0.52647059, 0.5254902 , 0.5254902 , 0.52647059,\n",
       "        0.5245098 , 0.52745098, 0.5254902 , 0.52647059, 0.5245098 ,\n",
       "        0.52647059, 0.52647059, 0.52745098, 0.52647059, 0.5254902 ]),\n",
       " 'split3_test_score': array([0.54901961, 0.54705882, 0.54901961, 0.55      , 0.54901961,\n",
       "        0.54705882, 0.54901961, 0.54705882, 0.54901961, 0.54901961,\n",
       "        0.54705882, 0.54803922, 0.55      , 0.54901961, 0.55      ,\n",
       "        0.54901961, 0.54901961, 0.54901961, 0.54803922, 0.54901961,\n",
       "        0.54901961, 0.54901961, 0.55      , 0.54901961, 0.54901961,\n",
       "        0.54901961, 0.54901961, 0.54901961, 0.54901961, 0.54901961,\n",
       "        0.55      , 0.54803922, 0.54901961, 0.54901961, 0.54705882,\n",
       "        0.54901961, 0.54901961, 0.54901961, 0.54803922, 0.54705882,\n",
       "        0.54803922, 0.54705882, 0.54901961, 0.54901961, 0.55      ,\n",
       "        0.54901961, 0.54901961, 0.54901961, 0.54901961, 0.54901961,\n",
       "        0.54607843, 0.54607843, 0.54705882, 0.54901961, 0.54803922,\n",
       "        0.54901961, 0.54803922, 0.54901961, 0.54901961, 0.55      ]),\n",
       " 'split4_test_score': array([0.54215686, 0.54215686, 0.54117647, 0.54117647, 0.54117647,\n",
       "        0.54215686, 0.54019608, 0.54117647, 0.54117647, 0.54117647,\n",
       "        0.53921569, 0.54117647, 0.54117647, 0.54313725, 0.54313725,\n",
       "        0.54117647, 0.54117647, 0.54117647, 0.54117647, 0.54117647,\n",
       "        0.54215686, 0.54313725, 0.54117647, 0.54117647, 0.54117647,\n",
       "        0.54117647, 0.54215686, 0.54215686, 0.54117647, 0.54215686,\n",
       "        0.54215686, 0.54411765, 0.54117647, 0.54019608, 0.54117647,\n",
       "        0.54117647, 0.54215686, 0.54215686, 0.54117647, 0.54313725,\n",
       "        0.54313725, 0.54313725, 0.54117647, 0.54215686, 0.54117647,\n",
       "        0.54117647, 0.54117647, 0.54019608, 0.54019608, 0.54117647,\n",
       "        0.54509804, 0.54313725, 0.54117647, 0.54215686, 0.54117647,\n",
       "        0.54117647, 0.54117647, 0.54117647, 0.54117647, 0.54117647]),\n",
       " 'mean_test_score': array([0.54098039, 0.54058824, 0.54039216, 0.54039216, 0.54098039,\n",
       "        0.54098039, 0.54058824, 0.54039216, 0.54078431, 0.54058824,\n",
       "        0.53980392, 0.54058824, 0.54098039, 0.54137255, 0.54156863,\n",
       "        0.54098039, 0.54078431, 0.54117647, 0.54117647, 0.54098039,\n",
       "        0.54176471, 0.54215686, 0.54117647, 0.54176471, 0.54117647,\n",
       "        0.54078431, 0.54117647, 0.54098039, 0.54117647, 0.54078431,\n",
       "        0.54156863, 0.5427451 , 0.54078431, 0.54058824, 0.54078431,\n",
       "        0.54058824, 0.54098039, 0.54098039, 0.54078431, 0.54117647,\n",
       "        0.54215686, 0.54      , 0.54039216, 0.54058824, 0.54098039,\n",
       "        0.54117647, 0.54137255, 0.54078431, 0.54058824, 0.54137255,\n",
       "        0.54098039, 0.54117647, 0.54019608, 0.54039216, 0.54078431,\n",
       "        0.54098039, 0.54098039, 0.54137255, 0.54098039, 0.54117647]),\n",
       " 'std_test_score': array([0.00809403, 0.00724695, 0.00747674, 0.00848818, 0.00770466,\n",
       "        0.00747674, 0.00851531, 0.00770466, 0.00856035, 0.00797921,\n",
       "        0.00758395, 0.00833276, 0.00828185, 0.00823529, 0.00837877,\n",
       "        0.00814139, 0.00760926, 0.00776926, 0.00769467, 0.00862299,\n",
       "        0.00795508, 0.00715082, 0.00838794, 0.00763448, 0.00731033,\n",
       "        0.00760926, 0.00820255, 0.00809403, 0.00822595, 0.00844732,\n",
       "        0.00844732, 0.00678103, 0.00805116, 0.008075  , 0.0074044 ,\n",
       "        0.00755856, 0.00762944, 0.00762944, 0.00750753, 0.00847912,\n",
       "        0.00704246, 0.00837418, 0.0083971 , 0.00837877, 0.0082586 ,\n",
       "        0.00733658, 0.00787738, 0.00814611, 0.00805116, 0.00787738,\n",
       "        0.0082586 , 0.00693242, 0.00759408, 0.00747674, 0.00844732,\n",
       "        0.00770466, 0.00757888, 0.0073992 , 0.00767967, 0.00834198]),\n",
       " 'rank_test_score': array([22, 45, 53, 53, 22, 22, 45, 53, 36, 45, 60, 45, 22,  8,  6, 22, 36,\n",
       "        12, 12, 22,  4,  2, 12,  4, 12, 36, 12, 22, 12, 36,  6,  1, 36, 45,\n",
       "        36, 45, 22, 22, 36, 12,  2, 59, 53, 45, 22, 12,  8, 36, 45,  8, 35,\n",
       "        21, 58, 53, 36, 22, 22,  8, 22, 12])}"
      ]
     },
     "execution_count": 28,
     "metadata": {},
     "output_type": "execute_result"
    }
   ],
   "source": [
    "clf.cv_results_"
   ]
  },
  {
   "cell_type": "code",
   "execution_count": null,
   "metadata": {},
   "outputs": [],
   "source": []
  }
 ],
 "metadata": {
  "kernelspec": {
   "display_name": "Python 3",
   "language": "python",
   "name": "python3"
  },
  "language_info": {
   "codemirror_mode": {
    "name": "ipython",
    "version": 3
   },
   "file_extension": ".py",
   "mimetype": "text/x-python",
   "name": "python",
   "nbconvert_exporter": "python",
   "pygments_lexer": "ipython3",
   "version": "3.8.5"
  }
 },
 "nbformat": 4,
 "nbformat_minor": 4
}
